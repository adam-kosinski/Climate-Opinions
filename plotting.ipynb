{
 "cells": [
  {
   "cell_type": "code",
   "execution_count": 1,
   "id": "0500ce4b",
   "metadata": {},
   "outputs": [
    {
     "name": "stdout",
     "output_type": "stream",
     "text": [
      "Note: you may need to restart the kernel to use updated packages.\n"
     ]
    }
   ],
   "source": [
    "%pip install pyreadstat --quiet"
   ]
  },
  {
   "cell_type": "code",
   "execution_count": 2,
   "id": "792d5e0b",
   "metadata": {},
   "outputs": [],
   "source": [
    "import numpy as np\n",
    "import matplotlib.pyplot as plt\n",
    "import pandas as pd\n",
    "df = pd.read_spss('CCAM SPSS Data 2008-2022.sav')"
   ]
  },
  {
   "cell_type": "code",
   "execution_count": 3,
   "id": "1fc3694c",
   "metadata": {},
   "outputs": [
    {
     "data": {
      "text/plain": [
       "Index(['case_ID', 'wave', 'year', 'weight_wave', 'weight_aggregate',\n",
       "       'happening', 'cause_original', 'cause_other_text', 'cause_recoded',\n",
       "       'sci_consensus', 'worry', 'harm_personally', 'harm_US',\n",
       "       'harm_dev_countries', 'harm_future_gen', 'harm_plants_animals',\n",
       "       'when_harm_US', 'reg_CO2_pollutant', 'reg_utilities', 'fund_research',\n",
       "       'reg_coal_emissions', 'discuss_GW', 'hear_GW_media', 'gender', 'age',\n",
       "       'age_category', 'generation', 'educ', 'educ_category', 'income',\n",
       "       'income_category', 'race', 'ideology', 'party', 'party_w_leaners',\n",
       "       'party_x_ideo', 'registered_voter', 'region9', 'region4', 'religion',\n",
       "       'religion_other_nonchristian', 'evangelical', 'service_attendance',\n",
       "       'marit_status', 'employment', 'house_head', 'house_size',\n",
       "       'house_ages0to1', 'house_ages2to5', 'house_ages6to12',\n",
       "       'house_ages13to17', 'house_ages18plus', 'house_type', 'house_own'],\n",
       "      dtype='object')"
      ]
     },
     "execution_count": 3,
     "metadata": {},
     "output_type": "execute_result"
    }
   ],
   "source": [
    "df.columns"
   ]
  },
  {
   "cell_type": "code",
   "execution_count": 4,
   "id": "e1e5da1a",
   "metadata": {},
   "outputs": [],
   "source": [
    "# specify category order for variables I'm plotting\n",
    "\n",
    "df[\"happening\"] = df[\"happening\"].cat.set_categories(['Refused',\n",
    "                                                      'No',\n",
    "                                                      'Don\\'t know',\n",
    "                                                      'Yes'], ordered=True)\n",
    "\n",
    "df[\"worry\"] = df[\"worry\"].cat.set_categories(['Refused',\n",
    "                                              'Not at all worried',\n",
    "                                              'Not very worried',\n",
    "                                              'Somewhat worried',\n",
    "                                              'Very worried'], ordered=True)\n",
    "\n",
    "df[\"educ_category\"] = df[\"educ_category\"].cat.set_categories(['Less than high school',\n",
    "                                                              'High school', 'Some college',\n",
    "                                                              'Bachelor\\'s degree or higher'],ordered=True)\n",
    "\n",
    "df[\"income_category\"] = df[\"income_category\"].cat.set_categories(['Less than $50,000',\n",
    "                                                                  '$50,000 to $99,999',\n",
    "                                                                  '$100,000 or more'], ordered=True)"
   ]
  },
  {
   "cell_type": "code",
   "execution_count": 5,
   "id": "1cc2a740",
   "metadata": {},
   "outputs": [
    {
     "data": {
      "image/png": "[encoded data removed]",
      "text/plain": [
       "<Figure size 432x288 with 1 Axes>"
      ]
     },
     "metadata": {
      "needs_background": "light"
     },
     "output_type": "display_data"
    }
   ],
   "source": [
    "# age vs. ___\n",
    "\n",
    "versus_var = \"happening\"\n",
    "\n",
    "ages_by_category = []\n",
    "\n",
    "category_values = df[versus_var].cat.categories\n",
    "\n",
    "for response in category_values:\n",
    "    ages_by_category.append(df[df[versus_var] == response][\"age\"])\n",
    "    \n",
    "plt.boxplot(ages_by_category, vert=False)\n",
    "plt.yticks(ticks=[i+1 for i in range(len(category_values))], labels=category_values)\n",
    "plt.show()"
   ]
  },
  {
   "cell_type": "code",
   "execution_count": 6,
   "id": "4e37e7e3",
   "metadata": {},
   "outputs": [
    {
     "data": {
      "text/plain": [
       "28092.66713142408"
      ]
     },
     "execution_count": 6,
     "metadata": {},
     "output_type": "execute_result"
    }
   ],
   "source": [
    "np.sum(df[\"weight_aggregate\"])"
   ]
  },
  {
   "cell_type": "code",
   "execution_count": 7,
   "id": "6b4518b9",
   "metadata": {},
   "outputs": [
    {
     "data": {
      "text/html": [
       "<div>\n",
       "<style scoped>\n",
       "    .dataframe tbody tr th:only-of-type {\n",
       "        vertical-align: middle;\n",
       "    }\n",
       "\n",
       "    .dataframe tbody tr th {\n",
       "        vertical-align: top;\n",
       "    }\n",
       "\n",
       "    .dataframe thead th {\n",
       "        text-align: right;\n",
       "    }\n",
       "</style>\n",
       "<table border=\"1\" class=\"dataframe\">\n",
       "  <thead>\n",
       "    <tr style=\"text-align: right;\">\n",
       "      <th></th>\n",
       "      <th>weight_aggregate</th>\n",
       "      <th>adam_weight_aggregate</th>\n",
       "    </tr>\n",
       "  </thead>\n",
       "  <tbody>\n",
       "    <tr>\n",
       "      <th>0</th>\n",
       "      <td>0.269626</td>\n",
       "      <td>0.289234</td>\n",
       "    </tr>\n",
       "    <tr>\n",
       "      <th>1</th>\n",
       "      <td>0.424411</td>\n",
       "      <td>0.455275</td>\n",
       "    </tr>\n",
       "    <tr>\n",
       "      <th>2</th>\n",
       "      <td>0.244660</td>\n",
       "      <td>0.262453</td>\n",
       "    </tr>\n",
       "    <tr>\n",
       "      <th>3</th>\n",
       "      <td>0.144799</td>\n",
       "      <td>0.155329</td>\n",
       "    </tr>\n",
       "    <tr>\n",
       "      <th>4</th>\n",
       "      <td>0.644106</td>\n",
       "      <td>0.690947</td>\n",
       "    </tr>\n",
       "    <tr>\n",
       "      <th>...</th>\n",
       "      <td>...</td>\n",
       "      <td>...</td>\n",
       "    </tr>\n",
       "    <tr>\n",
       "      <th>30131</th>\n",
       "      <td>1.575959</td>\n",
       "      <td>1.690567</td>\n",
       "    </tr>\n",
       "    <tr>\n",
       "      <th>30132</th>\n",
       "      <td>0.886371</td>\n",
       "      <td>0.950830</td>\n",
       "    </tr>\n",
       "    <tr>\n",
       "      <th>30133</th>\n",
       "      <td>1.165305</td>\n",
       "      <td>1.250050</td>\n",
       "    </tr>\n",
       "    <tr>\n",
       "      <th>30134</th>\n",
       "      <td>0.687147</td>\n",
       "      <td>0.737118</td>\n",
       "    </tr>\n",
       "    <tr>\n",
       "      <th>30135</th>\n",
       "      <td>0.779913</td>\n",
       "      <td>0.836630</td>\n",
       "    </tr>\n",
       "  </tbody>\n",
       "</table>\n",
       "<p>30136 rows × 2 columns</p>\n",
       "</div>"
      ],
      "text/plain": [
       "       weight_aggregate  adam_weight_aggregate\n",
       "0              0.269626               0.289234\n",
       "1              0.424411               0.455275\n",
       "2              0.244660               0.262453\n",
       "3              0.144799               0.155329\n",
       "4              0.644106               0.690947\n",
       "...                 ...                    ...\n",
       "30131          1.575959               1.690567\n",
       "30132          0.886371               0.950830\n",
       "30133          1.165305               1.250050\n",
       "30134          0.687147               0.737118\n",
       "30135          0.779913               0.836630\n",
       "\n",
       "[30136 rows x 2 columns]"
      ]
     },
     "execution_count": 7,
     "metadata": {},
     "output_type": "execute_result"
    }
   ],
   "source": [
    "# recompute weight_aggregate since theirs is incorrect\n",
    "wave_counts = df[\"wave\"].value_counts()\n",
    "avg_wave_size = np.mean(wave_counts)\n",
    "\n",
    "df[\"adam_weight_aggregate\"] = df.apply(lambda row: (row.weight_wave / wave_counts[row.wave]) * avg_wave_size, axis=1)\n",
    "df[[\"weight_aggregate\", \"adam_weight_aggregate\"]]"
   ]
  },
  {
   "cell_type": "code",
   "execution_count": 8,
   "id": "493be6e7",
   "metadata": {},
   "outputs": [],
   "source": [
    "# pd.pivot_table(df, values=\"weight_aggregate\", columns=[\"wave\"], aggfunc=\"sum\")\n",
    "# pd.pivot_table(df, values=\"adam_weight_aggregate\", columns=[\"wave\"], aggfunc=\"sum\")"
   ]
  },
  {
   "cell_type": "code",
   "execution_count": 9,
   "id": "b95335ba",
   "metadata": {},
   "outputs": [],
   "source": [
    "def plot_cat_crosstab(data, axis_var, color_var, xlab, ylab, title):\n",
    "    crosstab = pd.crosstab(data[axis_var], data[color_var],\n",
    "                           values=data[\"adam_weight_aggregate\"], aggfunc=\"sum\",\n",
    "                           margins=False, normalize=\"index\")\n",
    "\n",
    "    ax = crosstab.plot(kind=\"barh\", stacked=True)\n",
    "    ax.invert_yaxis() # when reading top-to-bottom, it makes more sense for increasing quantities to be lower\n",
    "    ax.set_xlabel(xlab)\n",
    "    ax.set_ylabel(ylab)\n",
    "    ax.set_title(title)\n",
    "    ax.legend(loc=\"upper center\", bbox_to_anchor=(0.5, -0.2))\n",
    "    \n",
    "#     # change formatting of the \"All\" label - use only with margins=True in the crosstab func\n",
    "#     yticklabels = ax.get_yticklabels()\n",
    "#     ax.get_yticklabels()[len(yticklabels)-1].set_size(20)\n",
    "\n",
    "    return crosstab"
   ]
  },
  {
   "cell_type": "code",
   "execution_count": 10,
   "id": "03a17397",
   "metadata": {},
   "outputs": [
    {
     "data": {
      "text/html": [
       "<div>\n",
       "<style scoped>\n",
       "    .dataframe tbody tr th:only-of-type {\n",
       "        vertical-align: middle;\n",
       "    }\n",
       "\n",
       "    .dataframe tbody tr th {\n",
       "        vertical-align: top;\n",
       "    }\n",
       "\n",
       "    .dataframe thead th {\n",
       "        text-align: right;\n",
       "    }\n",
       "</style>\n",
       "<table border=\"1\" class=\"dataframe\">\n",
       "  <thead>\n",
       "    <tr style=\"text-align: right;\">\n",
       "      <th>worry</th>\n",
       "      <th>Refused</th>\n",
       "      <th>Not at all worried</th>\n",
       "      <th>Not very worried</th>\n",
       "      <th>Somewhat worried</th>\n",
       "      <th>Very worried</th>\n",
       "    </tr>\n",
       "    <tr>\n",
       "      <th>educ_category</th>\n",
       "      <th></th>\n",
       "      <th></th>\n",
       "      <th></th>\n",
       "      <th></th>\n",
       "      <th></th>\n",
       "    </tr>\n",
       "  </thead>\n",
       "  <tbody>\n",
       "    <tr>\n",
       "      <th>Less than high school</th>\n",
       "      <td>0.001261</td>\n",
       "      <td>0.101189</td>\n",
       "      <td>0.201398</td>\n",
       "      <td>0.442257</td>\n",
       "      <td>0.253895</td>\n",
       "    </tr>\n",
       "    <tr>\n",
       "      <th>High school</th>\n",
       "      <td>0.000643</td>\n",
       "      <td>0.071570</td>\n",
       "      <td>0.213424</td>\n",
       "      <td>0.465182</td>\n",
       "      <td>0.249181</td>\n",
       "    </tr>\n",
       "    <tr>\n",
       "      <th>Some college</th>\n",
       "      <td>0.000186</td>\n",
       "      <td>0.051777</td>\n",
       "      <td>0.156314</td>\n",
       "      <td>0.496870</td>\n",
       "      <td>0.294853</td>\n",
       "    </tr>\n",
       "    <tr>\n",
       "      <th>Bachelor's degree or higher</th>\n",
       "      <td>0.000000</td>\n",
       "      <td>0.019280</td>\n",
       "      <td>0.101590</td>\n",
       "      <td>0.476895</td>\n",
       "      <td>0.402235</td>\n",
       "    </tr>\n",
       "  </tbody>\n",
       "</table>\n",
       "</div>"
      ],
      "text/plain": [
       "worry                         Refused  Not at all worried  Not very worried  \\\n",
       "educ_category                                                                 \n",
       "Less than high school        0.001261            0.101189          0.201398   \n",
       "High school                  0.000643            0.071570          0.213424   \n",
       "Some college                 0.000186            0.051777          0.156314   \n",
       "Bachelor's degree or higher  0.000000            0.019280          0.101590   \n",
       "\n",
       "worry                        Somewhat worried  Very worried  \n",
       "educ_category                                                \n",
       "Less than high school                0.442257      0.253895  \n",
       "High school                          0.465182      0.249181  \n",
       "Some college                         0.496870      0.294853  \n",
       "Bachelor's degree or higher          0.476895      0.402235  "
      ]
     },
     "execution_count": 10,
     "metadata": {},
     "output_type": "execute_result"
    },
    {
     "data": {
      "image/png": "[encoded data removed]",
      "text/plain": [
       "<Figure size 432x288 with 1 Axes>"
      ]
     },
     "metadata": {
      "needs_background": "light"
     },
     "output_type": "display_data"
    }
   ],
   "source": [
    "plot_cat_crosstab(df[df[\"party\"] == \"Democrat\"],\n",
    "                 \"educ_category\", \"worry\",\n",
    "                 xlab=\"Weighted Fraction of Democrat-Identifying Respondents\",\n",
    "                 ylab=\"\",\n",
    "                 title=\"Democrat Worry Levels\")"
   ]
  },
  {
   "cell_type": "code",
   "execution_count": 11,
   "id": "ba843398",
   "metadata": {},
   "outputs": [
    {
     "data": {
      "text/html": [
       "<div>\n",
       "<style scoped>\n",
       "    .dataframe tbody tr th:only-of-type {\n",
       "        vertical-align: middle;\n",
       "    }\n",
       "\n",
       "    .dataframe tbody tr th {\n",
       "        vertical-align: top;\n",
       "    }\n",
       "\n",
       "    .dataframe thead th {\n",
       "        text-align: right;\n",
       "    }\n",
       "</style>\n",
       "<table border=\"1\" class=\"dataframe\">\n",
       "  <thead>\n",
       "    <tr style=\"text-align: right;\">\n",
       "      <th>worry</th>\n",
       "      <th>Refused</th>\n",
       "      <th>Not at all worried</th>\n",
       "      <th>Not very worried</th>\n",
       "      <th>Somewhat worried</th>\n",
       "      <th>Very worried</th>\n",
       "    </tr>\n",
       "    <tr>\n",
       "      <th>educ_category</th>\n",
       "      <th></th>\n",
       "      <th></th>\n",
       "      <th></th>\n",
       "      <th></th>\n",
       "      <th></th>\n",
       "    </tr>\n",
       "  </thead>\n",
       "  <tbody>\n",
       "    <tr>\n",
       "      <th>Less than high school</th>\n",
       "      <td>0.000000</td>\n",
       "      <td>0.134756</td>\n",
       "      <td>0.254644</td>\n",
       "      <td>0.390407</td>\n",
       "      <td>0.220193</td>\n",
       "    </tr>\n",
       "    <tr>\n",
       "      <th>High school</th>\n",
       "      <td>0.001695</td>\n",
       "      <td>0.177338</td>\n",
       "      <td>0.280177</td>\n",
       "      <td>0.405302</td>\n",
       "      <td>0.135488</td>\n",
       "    </tr>\n",
       "    <tr>\n",
       "      <th>Some college</th>\n",
       "      <td>0.001173</td>\n",
       "      <td>0.160889</td>\n",
       "      <td>0.255202</td>\n",
       "      <td>0.417781</td>\n",
       "      <td>0.164954</td>\n",
       "    </tr>\n",
       "    <tr>\n",
       "      <th>Bachelor's degree or higher</th>\n",
       "      <td>0.000306</td>\n",
       "      <td>0.135812</td>\n",
       "      <td>0.228487</td>\n",
       "      <td>0.419397</td>\n",
       "      <td>0.215998</td>\n",
       "    </tr>\n",
       "  </tbody>\n",
       "</table>\n",
       "</div>"
      ],
      "text/plain": [
       "worry                         Refused  Not at all worried  Not very worried  \\\n",
       "educ_category                                                                 \n",
       "Less than high school        0.000000            0.134756          0.254644   \n",
       "High school                  0.001695            0.177338          0.280177   \n",
       "Some college                 0.001173            0.160889          0.255202   \n",
       "Bachelor's degree or higher  0.000306            0.135812          0.228487   \n",
       "\n",
       "worry                        Somewhat worried  Very worried  \n",
       "educ_category                                                \n",
       "Less than high school                0.390407      0.220193  \n",
       "High school                          0.405302      0.135488  \n",
       "Some college                         0.417781      0.164954  \n",
       "Bachelor's degree or higher          0.419397      0.215998  "
      ]
     },
     "execution_count": 11,
     "metadata": {},
     "output_type": "execute_result"
    },
    {
     "data": {
      "image/png": "[encoded data removed]",
      "text/plain": [
       "<Figure size 432x288 with 1 Axes>"
      ]
     },
     "metadata": {
      "needs_background": "light"
     },
     "output_type": "display_data"
    }
   ],
   "source": [
    "plot_cat_crosstab(df[df[\"party\"] == \"Independent\"],\n",
    "                 \"educ_category\", \"worry\",\n",
    "                 xlab=\"Weighted Fraction of Independent-Identifying Respondents\",\n",
    "                 ylab=\"\",\n",
    "                 title=\"Independents Worry Levels\")"
   ]
  },
  {
   "cell_type": "code",
   "execution_count": 12,
   "id": "bbda63df",
   "metadata": {},
   "outputs": [
    {
     "data": {
      "text/html": [
       "<div>\n",
       "<style scoped>\n",
       "    .dataframe tbody tr th:only-of-type {\n",
       "        vertical-align: middle;\n",
       "    }\n",
       "\n",
       "    .dataframe tbody tr th {\n",
       "        vertical-align: top;\n",
       "    }\n",
       "\n",
       "    .dataframe thead th {\n",
       "        text-align: right;\n",
       "    }\n",
       "</style>\n",
       "<table border=\"1\" class=\"dataframe\">\n",
       "  <thead>\n",
       "    <tr style=\"text-align: right;\">\n",
       "      <th>worry</th>\n",
       "      <th>Refused</th>\n",
       "      <th>Not at all worried</th>\n",
       "      <th>Not very worried</th>\n",
       "      <th>Somewhat worried</th>\n",
       "      <th>Very worried</th>\n",
       "    </tr>\n",
       "    <tr>\n",
       "      <th>educ_category</th>\n",
       "      <th></th>\n",
       "      <th></th>\n",
       "      <th></th>\n",
       "      <th></th>\n",
       "      <th></th>\n",
       "    </tr>\n",
       "  </thead>\n",
       "  <tbody>\n",
       "    <tr>\n",
       "      <th>Less than high school</th>\n",
       "      <td>0.000000</td>\n",
       "      <td>0.244775</td>\n",
       "      <td>0.310650</td>\n",
       "      <td>0.325140</td>\n",
       "      <td>0.119434</td>\n",
       "    </tr>\n",
       "    <tr>\n",
       "      <th>High school</th>\n",
       "      <td>0.000356</td>\n",
       "      <td>0.301176</td>\n",
       "      <td>0.334141</td>\n",
       "      <td>0.289960</td>\n",
       "      <td>0.074368</td>\n",
       "    </tr>\n",
       "    <tr>\n",
       "      <th>Some college</th>\n",
       "      <td>0.000386</td>\n",
       "      <td>0.311900</td>\n",
       "      <td>0.354136</td>\n",
       "      <td>0.280354</td>\n",
       "      <td>0.053225</td>\n",
       "    </tr>\n",
       "    <tr>\n",
       "      <th>Bachelor's degree or higher</th>\n",
       "      <td>0.001346</td>\n",
       "      <td>0.282348</td>\n",
       "      <td>0.375229</td>\n",
       "      <td>0.293053</td>\n",
       "      <td>0.048024</td>\n",
       "    </tr>\n",
       "  </tbody>\n",
       "</table>\n",
       "</div>"
      ],
      "text/plain": [
       "worry                         Refused  Not at all worried  Not very worried  \\\n",
       "educ_category                                                                 \n",
       "Less than high school        0.000000            0.244775          0.310650   \n",
       "High school                  0.000356            0.301176          0.334141   \n",
       "Some college                 0.000386            0.311900          0.354136   \n",
       "Bachelor's degree or higher  0.001346            0.282348          0.375229   \n",
       "\n",
       "worry                        Somewhat worried  Very worried  \n",
       "educ_category                                                \n",
       "Less than high school                0.325140      0.119434  \n",
       "High school                          0.289960      0.074368  \n",
       "Some college                         0.280354      0.053225  \n",
       "Bachelor's degree or higher          0.293053      0.048024  "
      ]
     },
     "execution_count": 12,
     "metadata": {},
     "output_type": "execute_result"
    },
    {
     "data": {
      "image/png": "[encoded data removed]",
      "text/plain": [
       "<Figure size 432x288 with 1 Axes>"
      ]
     },
     "metadata": {
      "needs_background": "light"
     },
     "output_type": "display_data"
    }
   ],
   "source": [
    "plot_cat_crosstab(df[df[\"party\"] == \"Republican\"],\n",
    "                 \"educ_category\", \"worry\",\n",
    "                 xlab=\"Weighted Fraction of Republican-Identifying Respondents\",\n",
    "                 ylab=\"\",\n",
    "                 title=\"Republican Worry Levels\")"
   ]
  },
  {
   "cell_type": "code",
   "execution_count": 13,
   "id": "8a4d17fc",
   "metadata": {},
   "outputs": [
    {
     "data": {
      "text/html": [
       "<div>\n",
       "<style scoped>\n",
       "    .dataframe tbody tr th:only-of-type {\n",
       "        vertical-align: middle;\n",
       "    }\n",
       "\n",
       "    .dataframe tbody tr th {\n",
       "        vertical-align: top;\n",
       "    }\n",
       "\n",
       "    .dataframe thead th {\n",
       "        text-align: right;\n",
       "    }\n",
       "</style>\n",
       "<table border=\"1\" class=\"dataframe\">\n",
       "  <thead>\n",
       "    <tr style=\"text-align: right;\">\n",
       "      <th>happening</th>\n",
       "      <th>Refused</th>\n",
       "      <th>No</th>\n",
       "      <th>Don't know</th>\n",
       "      <th>Yes</th>\n",
       "    </tr>\n",
       "    <tr>\n",
       "      <th>educ_category</th>\n",
       "      <th></th>\n",
       "      <th></th>\n",
       "      <th></th>\n",
       "      <th></th>\n",
       "    </tr>\n",
       "  </thead>\n",
       "  <tbody>\n",
       "    <tr>\n",
       "      <th>Less than high school</th>\n",
       "      <td>0.002857</td>\n",
       "      <td>0.061283</td>\n",
       "      <td>0.221749</td>\n",
       "      <td>0.714111</td>\n",
       "    </tr>\n",
       "    <tr>\n",
       "      <th>High school</th>\n",
       "      <td>0.002023</td>\n",
       "      <td>0.050880</td>\n",
       "      <td>0.164373</td>\n",
       "      <td>0.782723</td>\n",
       "    </tr>\n",
       "    <tr>\n",
       "      <th>Some college</th>\n",
       "      <td>0.000335</td>\n",
       "      <td>0.036127</td>\n",
       "      <td>0.088259</td>\n",
       "      <td>0.875278</td>\n",
       "    </tr>\n",
       "    <tr>\n",
       "      <th>Bachelor's degree or higher</th>\n",
       "      <td>0.000000</td>\n",
       "      <td>0.016585</td>\n",
       "      <td>0.039642</td>\n",
       "      <td>0.943773</td>\n",
       "    </tr>\n",
       "  </tbody>\n",
       "</table>\n",
       "</div>"
      ],
      "text/plain": [
       "happening                     Refused        No  Don't know       Yes\n",
       "educ_category                                                        \n",
       "Less than high school        0.002857  0.061283    0.221749  0.714111\n",
       "High school                  0.002023  0.050880    0.164373  0.782723\n",
       "Some college                 0.000335  0.036127    0.088259  0.875278\n",
       "Bachelor's degree or higher  0.000000  0.016585    0.039642  0.943773"
      ]
     },
     "execution_count": 13,
     "metadata": {},
     "output_type": "execute_result"
    },
    {
     "data": {
      "image/png": "[encoded data removed]",
      "text/plain": [
       "<Figure size 432x288 with 1 Axes>"
      ]
     },
     "metadata": {
      "needs_background": "light"
     },
     "output_type": "display_data"
    }
   ],
   "source": [
    "plot_cat_crosstab(df[df[\"party\"] == \"Democrat\"],\n",
    "                 \"educ_category\", \"happening\",\n",
    "                 xlab=\"Weighted Fraction of Democrat-Identifying Respondents\",\n",
    "                 ylab=\"\",\n",
    "                 title=\"Democrat Belief that Global Warming is Happening\")"
   ]
  },
  {
   "cell_type": "code",
   "execution_count": 14,
   "id": "9a09b4a3",
   "metadata": {},
   "outputs": [
    {
     "data": {
      "text/html": [
       "<div>\n",
       "<style scoped>\n",
       "    .dataframe tbody tr th:only-of-type {\n",
       "        vertical-align: middle;\n",
       "    }\n",
       "\n",
       "    .dataframe tbody tr th {\n",
       "        vertical-align: top;\n",
       "    }\n",
       "\n",
       "    .dataframe thead th {\n",
       "        text-align: right;\n",
       "    }\n",
       "</style>\n",
       "<table border=\"1\" class=\"dataframe\">\n",
       "  <thead>\n",
       "    <tr style=\"text-align: right;\">\n",
       "      <th>happening</th>\n",
       "      <th>Refused</th>\n",
       "      <th>No</th>\n",
       "      <th>Don't know</th>\n",
       "      <th>Yes</th>\n",
       "    </tr>\n",
       "    <tr>\n",
       "      <th>educ_category</th>\n",
       "      <th></th>\n",
       "      <th></th>\n",
       "      <th></th>\n",
       "      <th></th>\n",
       "    </tr>\n",
       "  </thead>\n",
       "  <tbody>\n",
       "    <tr>\n",
       "      <th>Less than high school</th>\n",
       "      <td>0.000000</td>\n",
       "      <td>0.159367</td>\n",
       "      <td>0.210274</td>\n",
       "      <td>0.630359</td>\n",
       "    </tr>\n",
       "    <tr>\n",
       "      <th>High school</th>\n",
       "      <td>0.001428</td>\n",
       "      <td>0.163552</td>\n",
       "      <td>0.189892</td>\n",
       "      <td>0.645129</td>\n",
       "    </tr>\n",
       "    <tr>\n",
       "      <th>Some college</th>\n",
       "      <td>0.000896</td>\n",
       "      <td>0.162165</td>\n",
       "      <td>0.141826</td>\n",
       "      <td>0.695113</td>\n",
       "    </tr>\n",
       "    <tr>\n",
       "      <th>Bachelor's degree or higher</th>\n",
       "      <td>0.000187</td>\n",
       "      <td>0.114516</td>\n",
       "      <td>0.127517</td>\n",
       "      <td>0.757779</td>\n",
       "    </tr>\n",
       "  </tbody>\n",
       "</table>\n",
       "</div>"
      ],
      "text/plain": [
       "happening                     Refused        No  Don't know       Yes\n",
       "educ_category                                                        \n",
       "Less than high school        0.000000  0.159367    0.210274  0.630359\n",
       "High school                  0.001428  0.163552    0.189892  0.645129\n",
       "Some college                 0.000896  0.162165    0.141826  0.695113\n",
       "Bachelor's degree or higher  0.000187  0.114516    0.127517  0.757779"
      ]
     },
     "execution_count": 14,
     "metadata": {},
     "output_type": "execute_result"
    },
    {
     "data": {
      "image/png": "[encoded data removed]",
      "text/plain": [
       "<Figure size 432x288 with 1 Axes>"
      ]
     },
     "metadata": {
      "needs_background": "light"
     },
     "output_type": "display_data"
    }
   ],
   "source": [
    "plot_cat_crosstab(df[df[\"party\"] == \"Independent\"],\n",
    "                 \"educ_category\", \"happening\",\n",
    "                 xlab=\"Weighted Fraction of Indepedent-Identifying Respondents\",\n",
    "                 ylab=\"\",\n",
    "                 title=\"Independents Belief that Global Warming is Happening\")"
   ]
  },
  {
   "cell_type": "code",
   "execution_count": 15,
   "id": "eadc22df",
   "metadata": {},
   "outputs": [
    {
     "data": {
      "text/html": [
       "<div>\n",
       "<style scoped>\n",
       "    .dataframe tbody tr th:only-of-type {\n",
       "        vertical-align: middle;\n",
       "    }\n",
       "\n",
       "    .dataframe tbody tr th {\n",
       "        vertical-align: top;\n",
       "    }\n",
       "\n",
       "    .dataframe thead th {\n",
       "        text-align: right;\n",
       "    }\n",
       "</style>\n",
       "<table border=\"1\" class=\"dataframe\">\n",
       "  <thead>\n",
       "    <tr style=\"text-align: right;\">\n",
       "      <th>happening</th>\n",
       "      <th>Refused</th>\n",
       "      <th>No</th>\n",
       "      <th>Don't know</th>\n",
       "      <th>Yes</th>\n",
       "    </tr>\n",
       "    <tr>\n",
       "      <th>educ_category</th>\n",
       "      <th></th>\n",
       "      <th></th>\n",
       "      <th></th>\n",
       "      <th></th>\n",
       "    </tr>\n",
       "  </thead>\n",
       "  <tbody>\n",
       "    <tr>\n",
       "      <th>Less than high school</th>\n",
       "      <td>0.000000</td>\n",
       "      <td>0.272574</td>\n",
       "      <td>0.238481</td>\n",
       "      <td>0.488945</td>\n",
       "    </tr>\n",
       "    <tr>\n",
       "      <th>High school</th>\n",
       "      <td>0.000463</td>\n",
       "      <td>0.304368</td>\n",
       "      <td>0.227292</td>\n",
       "      <td>0.467878</td>\n",
       "    </tr>\n",
       "    <tr>\n",
       "      <th>Some college</th>\n",
       "      <td>0.000465</td>\n",
       "      <td>0.328212</td>\n",
       "      <td>0.216181</td>\n",
       "      <td>0.455143</td>\n",
       "    </tr>\n",
       "    <tr>\n",
       "      <th>Bachelor's degree or higher</th>\n",
       "      <td>0.000087</td>\n",
       "      <td>0.292671</td>\n",
       "      <td>0.174845</td>\n",
       "      <td>0.532397</td>\n",
       "    </tr>\n",
       "  </tbody>\n",
       "</table>\n",
       "</div>"
      ],
      "text/plain": [
       "happening                     Refused        No  Don't know       Yes\n",
       "educ_category                                                        \n",
       "Less than high school        0.000000  0.272574    0.238481  0.488945\n",
       "High school                  0.000463  0.304368    0.227292  0.467878\n",
       "Some college                 0.000465  0.328212    0.216181  0.455143\n",
       "Bachelor's degree or higher  0.000087  0.292671    0.174845  0.532397"
      ]
     },
     "execution_count": 15,
     "metadata": {},
     "output_type": "execute_result"
    },
    {
     "data": {
      "image/png": "[encoded data removed]",
      "text/plain": [
       "<Figure size 432x288 with 1 Axes>"
      ]
     },
     "metadata": {
      "needs_background": "light"
     },
     "output_type": "display_data"
    }
   ],
   "source": [
    "plot_cat_crosstab(df[df[\"party\"] == \"Republican\"],\n",
    "                 \"educ_category\", \"happening\",\n",
    "                 xlab=\"Weighted Fraction of Republican-Identifying Respondents\",\n",
    "                 ylab=\"\",\n",
    "                 title=\"Republican Belief that Global Warming is Happening\")"
   ]
  },
  {
   "cell_type": "code",
   "execution_count": 26,
   "id": "b3181f45",
   "metadata": {},
   "outputs": [
    {
     "data": {
      "text/html": [
       "<div>\n",
       "<style scoped>\n",
       "    .dataframe tbody tr th:only-of-type {\n",
       "        vertical-align: middle;\n",
       "    }\n",
       "\n",
       "    .dataframe tbody tr th {\n",
       "        vertical-align: top;\n",
       "    }\n",
       "\n",
       "    .dataframe thead th {\n",
       "        text-align: right;\n",
       "    }\n",
       "</style>\n",
       "<table border=\"1\" class=\"dataframe\">\n",
       "  <thead>\n",
       "    <tr style=\"text-align: right;\">\n",
       "      <th>worry</th>\n",
       "      <th>Refused</th>\n",
       "      <th>Not at all worried</th>\n",
       "      <th>Not very worried</th>\n",
       "      <th>Somewhat worried</th>\n",
       "      <th>Very worried</th>\n",
       "    </tr>\n",
       "    <tr>\n",
       "      <th>happening</th>\n",
       "      <th></th>\n",
       "      <th></th>\n",
       "      <th></th>\n",
       "      <th></th>\n",
       "      <th></th>\n",
       "    </tr>\n",
       "  </thead>\n",
       "  <tbody>\n",
       "    <tr>\n",
       "      <th>Refused</th>\n",
       "      <td>0.628332</td>\n",
       "      <td>0.099728</td>\n",
       "      <td>0.039163</td>\n",
       "      <td>0.187265</td>\n",
       "      <td>0.045512</td>\n",
       "    </tr>\n",
       "    <tr>\n",
       "      <th>No</th>\n",
       "      <td>0.002582</td>\n",
       "      <td>0.600047</td>\n",
       "      <td>0.331960</td>\n",
       "      <td>0.058976</td>\n",
       "      <td>0.006435</td>\n",
       "    </tr>\n",
       "    <tr>\n",
       "      <th>Don't know</th>\n",
       "      <td>0.004375</td>\n",
       "      <td>0.235452</td>\n",
       "      <td>0.454264</td>\n",
       "      <td>0.282587</td>\n",
       "      <td>0.023322</td>\n",
       "    </tr>\n",
       "    <tr>\n",
       "      <th>Yes</th>\n",
       "      <td>0.000913</td>\n",
       "      <td>0.049593</td>\n",
       "      <td>0.173425</td>\n",
       "      <td>0.506552</td>\n",
       "      <td>0.269516</td>\n",
       "    </tr>\n",
       "  </tbody>\n",
       "</table>\n",
       "</div>"
      ],
      "text/plain": [
       "worry        Refused  Not at all worried  Not very worried  Somewhat worried  \\\n",
       "happening                                                                      \n",
       "Refused     0.628332            0.099728          0.039163          0.187265   \n",
       "No          0.002582            0.600047          0.331960          0.058976   \n",
       "Don't know  0.004375            0.235452          0.454264          0.282587   \n",
       "Yes         0.000913            0.049593          0.173425          0.506552   \n",
       "\n",
       "worry       Very worried  \n",
       "happening                 \n",
       "Refused         0.045512  \n",
       "No              0.006435  \n",
       "Don't know      0.023322  \n",
       "Yes             0.269516  "
      ]
     },
     "execution_count": 26,
     "metadata": {},
     "output_type": "execute_result"
    },
    {
     "data": {
      "image/png": "[encoded data removed]",
      "text/plain": [
       "<Figure size 432x288 with 1 Axes>"
      ]
     },
     "metadata": {
      "needs_background": "light"
     },
     "output_type": "display_data"
    }
   ],
   "source": [
    "plot_cat_crosstab(df,\n",
    "                 \"happening\", \"worry\",\n",
    "                 xlab=\"Weighted Fraction of Respondents\",\n",
    "                 ylab=\"\",\n",
    "                 title=\"Worry about Global Warming\")"
   ]
  }
 ],
 "metadata": {
  "kernelspec": {
   "display_name": "Python 3 (ipykernel)",
   "language": "python",
   "name": "python3"
  },
  "language_info": {
   "codemirror_mode": {
    "name": "ipython",
    "version": 3
   },
   "file_extension": ".py",
   "mimetype": "text/x-python",
   "name": "python",
   "nbconvert_exporter": "python",
   "pygments_lexer": "ipython3",
   "version": "3.9.12"
  }
 },
 "nbformat": 4,
 "nbformat_minor": 5
}
